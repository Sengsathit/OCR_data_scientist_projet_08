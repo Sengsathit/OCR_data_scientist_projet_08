{
 "cells": [
  {
   "cell_type": "markdown",
   "metadata": {},
   "source": [
    "<img src=\"https://raw.githubusercontent.com/Sengsathit/OCR_data_scientist_assets/main/header_vision_transformer.png\" alt=\"Alternative text\" />"
   ]
  },
  {
   "cell_type": "markdown",
   "metadata": {},
   "source": [
    "# Introduction"
   ]
  },
  {
   "cell_type": "markdown",
   "metadata": {},
   "source": [
    "Ce notebook a pour objectif de réaliser un Proof of Concept (`PoC`) sur l'architecture Vision Transformer (`ViT`), dans le but d'évaluer ses performances et ses capacités à résoudre des problèmes de classification d'images. En nous appuyant sur le modèle `ViT-base-patch16-224`, nous allons analyser comment cette architecture, fondée sur les mécanismes d'attention des transformers, peut rivaliser avec ou surpasser les approches traditionnelles comme les Convolutional Neural Networks (`CNN`)."
   ]
  },
  {
   "cell_type": "markdown",
   "metadata": {},
   "source": [
    "# Imports"
   ]
  },
  {
   "cell_type": "code",
   "execution_count": 1,
   "metadata": {},
   "outputs": [
    {
     "name": "stderr",
     "output_type": "stream",
     "text": [
      "/Users/sengsathit/Apprentissages/OpenClassrooms/Projets/OCR_data_scientist_projet_08/.venv/lib/python3.12/site-packages/tqdm/auto.py:21: TqdmWarning: IProgress not found. Please update jupyter and ipywidgets. See https://ipywidgets.readthedocs.io/en/stable/user_install.html\n",
      "  from .autonotebook import tqdm as notebook_tqdm\n"
     ]
    }
   ],
   "source": [
    "import numpy as np\n",
    "import pandas as pd\n",
    "import matplotlib.pyplot as plt\n",
    "import albumentations as A\n",
    "from sklearn.model_selection import train_test_split\n",
    "from transformers import ViTForImageClassification, ViTImageProcessor, TrainingArguments, Trainer\n",
    "from PIL import Image\n",
    "from sklearn.metrics import accuracy_score\n",
    "from datasets import Dataset\n",
    "\n",
    "\n",
    "# Configurer Pandas pour un affichage complet du contenu des colonnes\n",
    "pd.set_option('display.max_colwidth', None)\n",
    "pd.set_option('display.max_columns', None)\n",
    "pd.set_option('display.max_rows', None)\n",
    "\n",
    "plt.rcParams['figure.facecolor'] = '#FFFCF7'    # Définir la couleur de fond de la figure\n",
    "plt.rcParams['axes.facecolor'] = '#FFFCF7'      # Définir la couleur de fond des axes"
   ]
  },
  {
   "cell_type": "markdown",
   "metadata": {},
   "source": [
    "# Chargement des données"
   ]
  },
  {
   "cell_type": "code",
   "execution_count": 2,
   "metadata": {},
   "outputs": [],
   "source": [
    "df = pd.read_csv('../datasets/flipkart/flipkart_cleaned.csv')\n",
    "images_path = '../datasets/flipkart/images/'\n",
    "\n",
    "# Ajouter les chemins des images et les catégories au DataFrame\n",
    "df['image_path'] = images_path + df['image']\n",
    "df = df[['image_path', 'image', '_category']].rename(columns={'_category': 'label'})\n",
    "\n",
    "# S'assurer que les labels sont des entiers (le modèle ne supporte pas de labels sous forme de chaînes de caractères)\n",
    "label2id = {label: idx for idx, label in enumerate(df['label'].unique())}\n",
    "df['label'] = df['label'].map(label2id)"
   ]
  },
  {
   "cell_type": "markdown",
   "metadata": {},
   "source": [
    "# Préparation des données"
   ]
  },
  {
   "cell_type": "markdown",
   "metadata": {},
   "source": [
    "Séparation du dataset original en DataFrame d'entraînement, de validation et de test."
   ]
  },
  {
   "cell_type": "code",
   "execution_count": 3,
   "metadata": {},
   "outputs": [],
   "source": [
    "# Diviser le dataset d'origine en train et test\n",
    "df_train, df_test = train_test_split(df, test_size=0.2, random_state=42, stratify=df['label'])\n",
    "\n",
    "# Diviser df_train en train et validation\n",
    "df_train, df_val = train_test_split(df_train, test_size=0.25, random_state=42, stratify=df_train['label'])"
   ]
  },
  {
   "cell_type": "markdown",
   "metadata": {},
   "source": [
    "Transformation des DataFrame en dataset compatible avec Hugging Face"
   ]
  },
  {
   "cell_type": "code",
   "execution_count": 4,
   "metadata": {},
   "outputs": [],
   "source": [
    "# Conversion en datasets Hugging Face\n",
    "train_dataset = Dataset.from_pandas(df_train)\n",
    "validation_dataset = Dataset.from_pandas(df_val)\n",
    "test_dataset = Dataset.from_pandas(df_test)"
   ]
  },
  {
   "cell_type": "markdown",
   "metadata": {},
   "source": [
    "Préprocessing d'imagess et Data Augmentation avec quelques paramètres de transformation"
   ]
  },
  {
   "cell_type": "code",
   "execution_count": 5,
   "metadata": {},
   "outputs": [
    {
     "name": "stderr",
     "output_type": "stream",
     "text": [
      "Map: 100%|██████████| 630/630 [00:06<00:00, 92.36 examples/s]\n",
      "Map: 100%|██████████| 210/210 [00:01<00:00, 130.32 examples/s]\n",
      "Map: 100%|██████████| 210/210 [00:01<00:00, 127.54 examples/s]\n"
     ]
    }
   ],
   "source": [
    "# Configurer Albumentations pour la data augmentation (utilisé uniquement pour train_dataset)\n",
    "augmentations = A.Compose([\n",
    "    A.RandomRotate90(),\n",
    "    A.HorizontalFlip(p=0.5),\n",
    "    A.VerticalFlip(p=0.5),\n",
    "    A.ShiftScaleRotate(shift_limit=0.1, scale_limit=0.1, rotate_limit=15, p=0.5),\n",
    "    A.RandomBrightnessContrast(p=0.5)\n",
    "])\n",
    "\n",
    "# Chargement du preprocesseur pour normaliser et redimensionner les images avant de les passer au modèle\n",
    "image_processor = ViTImageProcessor.from_pretrained('google/vit-base-patch16-224')\n",
    "\n",
    "# Fonction de prétraitement avec augmentation pour le dataset d'entraînement\n",
    "def preprocess_train(data):\n",
    "    augmented_images = []\n",
    "    for img_path in data['image_path']:\n",
    "        img = Image.open(img_path).convert(\"RGB\")\n",
    "        img_array = np.array(img)\n",
    "\n",
    "        # Appliquer les augmentations uniquement pour les images du dataset d'entraînement\n",
    "        augmented = augmentations(image=img_array)['image']\n",
    "\n",
    "        img_augmented = Image.fromarray(augmented)\n",
    "        augmented_images.append(img_augmented)\n",
    "\n",
    "    # Appliquer le preprocessing du modèle ViT\n",
    "    inputs = image_processor(augmented_images, return_tensors=\"pt\")\n",
    "    inputs['labels'] = data['label']\n",
    "    return inputs\n",
    "\n",
    "# Fonction de prétraitement sans augmentation pour le dataset de test\n",
    "def preprocess_test(data):\n",
    "    images = [Image.open(img_path).convert(\"RGB\") for img_path in data['image_path']]\n",
    "    inputs = image_processor(images, return_tensors=\"pt\")\n",
    "    inputs['labels'] = data['label']\n",
    "    return inputs\n",
    "\n",
    "\n",
    "# Appliquer la fonction de prétraitement pour le dataset d'entraînement avec augmentation\n",
    "train_dataset = train_dataset.map(preprocess_train, batched=True)\n",
    "\n",
    "# Appliquer la fonction de prétraitement sans augmentation pour les datasets de validation et de test\n",
    "validation_dataset = validation_dataset.map(preprocess_test, batched=True)\n",
    "test_dataset = test_dataset.map(preprocess_test, batched=True)"
   ]
  },
  {
   "cell_type": "markdown",
   "metadata": {},
   "source": [
    "# Entraînement du modèle ViT-B/16"
   ]
  },
  {
   "cell_type": "markdown",
   "metadata": {},
   "source": [
    "Chargement du modèle"
   ]
  },
  {
   "cell_type": "code",
   "execution_count": 6,
   "metadata": {},
   "outputs": [
    {
     "name": "stderr",
     "output_type": "stream",
     "text": [
      "Some weights of ViTForImageClassification were not initialized from the model checkpoint at google/vit-base-patch16-224 and are newly initialized because the shapes did not match:\n",
      "- classifier.bias: found shape torch.Size([1000]) in the checkpoint and torch.Size([7]) in the model instantiated\n",
      "- classifier.weight: found shape torch.Size([1000, 768]) in the checkpoint and torch.Size([7, 768]) in the model instantiated\n",
      "You should probably TRAIN this model on a down-stream task to be able to use it for predictions and inference.\n"
     ]
    }
   ],
   "source": [
    "model = ViTForImageClassification.from_pretrained(\n",
    "    'google/vit-base-patch16-224', \n",
    "    num_labels=len(df['label'].unique()),\n",
    "    ignore_mismatched_sizes=True\n",
    ")"
   ]
  },
  {
   "cell_type": "markdown",
   "metadata": {},
   "source": [
    "Entraînement du modèle grâce au Trainer de Hugging Face, cela en tenant compte d'arguments d'entraînement"
   ]
  },
  {
   "cell_type": "code",
   "execution_count": 7,
   "metadata": {},
   "outputs": [
    {
     "name": "stderr",
     "output_type": "stream",
     "text": [
      "  2%|▏         | 10/600 [00:16<15:01,  1.53s/it]"
     ]
    },
    {
     "name": "stdout",
     "output_type": "stream",
     "text": [
      "{'loss': 2.0189, 'grad_norm': 9.726452827453613, 'learning_rate': 1.0000000000000002e-06, 'epoch': 0.25}\n"
     ]
    },
    {
     "name": "stderr",
     "output_type": "stream",
     "text": [
      "  3%|▎         | 20/600 [00:31<14:36,  1.51s/it]"
     ]
    },
    {
     "name": "stdout",
     "output_type": "stream",
     "text": [
      "{'loss': 2.0796, 'grad_norm': 8.752893447875977, 'learning_rate': 2.0000000000000003e-06, 'epoch': 0.5}\n"
     ]
    },
    {
     "name": "stderr",
     "output_type": "stream",
     "text": [
      "  5%|▌         | 30/600 [00:46<14:17,  1.50s/it]"
     ]
    },
    {
     "name": "stdout",
     "output_type": "stream",
     "text": [
      "{'loss': 2.0689, 'grad_norm': 8.622718811035156, 'learning_rate': 3e-06, 'epoch': 0.75}\n"
     ]
    },
    {
     "name": "stderr",
     "output_type": "stream",
     "text": [
      "  7%|▋         | 40/600 [01:00<10:00,  1.07s/it]"
     ]
    },
    {
     "name": "stdout",
     "output_type": "stream",
     "text": [
      "{'loss': 2.014, 'grad_norm': 12.172362327575684, 'learning_rate': 4.000000000000001e-06, 'epoch': 1.0}\n"
     ]
    },
    {
     "name": "stderr",
     "output_type": "stream",
     "text": [
      "                                                \n",
      "  7%|▋         | 40/600 [01:13<10:00,  1.07s/it]"
     ]
    },
    {
     "name": "stdout",
     "output_type": "stream",
     "text": [
      "{'eval_loss': 2.0428812503814697, 'eval_accuracy': 0.1761904761904762, 'eval_runtime': 13.2383, 'eval_samples_per_second': 15.863, 'eval_steps_per_second': 1.058, 'epoch': 1.0}\n"
     ]
    },
    {
     "name": "stderr",
     "output_type": "stream",
     "text": [
      "  8%|▊         | 50/600 [01:31<15:26,  1.69s/it]"
     ]
    },
    {
     "name": "stdout",
     "output_type": "stream",
     "text": [
      "{'loss': 1.8533, 'grad_norm': 8.024389266967773, 'learning_rate': 5e-06, 'epoch': 1.25}\n"
     ]
    },
    {
     "name": "stderr",
     "output_type": "stream",
     "text": [
      " 10%|█         | 60/600 [01:46<13:36,  1.51s/it]"
     ]
    },
    {
     "name": "stdout",
     "output_type": "stream",
     "text": [
      "{'loss': 1.9024, 'grad_norm': 8.341156005859375, 'learning_rate': 6e-06, 'epoch': 1.5}\n"
     ]
    },
    {
     "name": "stderr",
     "output_type": "stream",
     "text": [
      " 12%|█▏        | 70/600 [02:01<13:18,  1.51s/it]"
     ]
    },
    {
     "name": "stdout",
     "output_type": "stream",
     "text": [
      "{'loss': 1.6914, 'grad_norm': 8.714640617370605, 'learning_rate': 7.000000000000001e-06, 'epoch': 1.75}\n"
     ]
    },
    {
     "name": "stderr",
     "output_type": "stream",
     "text": [
      " 13%|█▎        | 80/600 [02:14<09:09,  1.06s/it]"
     ]
    },
    {
     "name": "stdout",
     "output_type": "stream",
     "text": [
      "{'loss': 1.6344, 'grad_norm': 11.8134126663208, 'learning_rate': 8.000000000000001e-06, 'epoch': 2.0}\n"
     ]
    },
    {
     "name": "stderr",
     "output_type": "stream",
     "text": [
      "                                                \n",
      " 13%|█▎        | 80/600 [02:28<09:09,  1.06s/it]"
     ]
    },
    {
     "name": "stdout",
     "output_type": "stream",
     "text": [
      "{'eval_loss': 1.7189322710037231, 'eval_accuracy': 0.38571428571428573, 'eval_runtime': 13.3162, 'eval_samples_per_second': 15.77, 'eval_steps_per_second': 1.051, 'epoch': 2.0}\n"
     ]
    },
    {
     "name": "stderr",
     "output_type": "stream",
     "text": [
      " 15%|█▌        | 90/600 [02:45<14:23,  1.69s/it]"
     ]
    },
    {
     "name": "stdout",
     "output_type": "stream",
     "text": [
      "{'loss': 1.4603, 'grad_norm': 7.725675582885742, 'learning_rate': 9e-06, 'epoch': 2.25}\n"
     ]
    },
    {
     "name": "stderr",
     "output_type": "stream",
     "text": [
      " 17%|█▋        | 100/600 [03:01<12:36,  1.51s/it]"
     ]
    },
    {
     "name": "stdout",
     "output_type": "stream",
     "text": [
      "{'loss': 1.3253, 'grad_norm': 7.384763717651367, 'learning_rate': 1e-05, 'epoch': 2.5}\n"
     ]
    },
    {
     "name": "stderr",
     "output_type": "stream",
     "text": [
      " 18%|█▊        | 110/600 [03:16<13:08,  1.61s/it]"
     ]
    },
    {
     "name": "stdout",
     "output_type": "stream",
     "text": [
      "{'loss': 1.2163, 'grad_norm': 7.36618709564209, 'learning_rate': 1.1000000000000001e-05, 'epoch': 2.75}\n"
     ]
    },
    {
     "name": "stderr",
     "output_type": "stream",
     "text": [
      " 20%|██        | 120/600 [03:29<08:19,  1.04s/it]"
     ]
    },
    {
     "name": "stdout",
     "output_type": "stream",
     "text": [
      "{'loss': 1.0912, 'grad_norm': 10.321343421936035, 'learning_rate': 1.2e-05, 'epoch': 3.0}\n"
     ]
    },
    {
     "name": "stderr",
     "output_type": "stream",
     "text": [
      "                                                 \n",
      " 20%|██        | 120/600 [03:42<08:19,  1.04s/it]"
     ]
    },
    {
     "name": "stdout",
     "output_type": "stream",
     "text": [
      "{'eval_loss': 1.2748180627822876, 'eval_accuracy': 0.6857142857142857, 'eval_runtime': 13.1159, 'eval_samples_per_second': 16.011, 'eval_steps_per_second': 1.067, 'epoch': 3.0}\n"
     ]
    },
    {
     "name": "stderr",
     "output_type": "stream",
     "text": [
      " 22%|██▏       | 130/600 [04:00<12:57,  1.65s/it]"
     ]
    },
    {
     "name": "stdout",
     "output_type": "stream",
     "text": [
      "{'loss': 0.8705, 'grad_norm': 5.823710918426514, 'learning_rate': 1.3000000000000001e-05, 'epoch': 3.25}\n"
     ]
    },
    {
     "name": "stderr",
     "output_type": "stream",
     "text": [
      " 23%|██▎       | 140/600 [04:14<11:21,  1.48s/it]"
     ]
    },
    {
     "name": "stdout",
     "output_type": "stream",
     "text": [
      "{'loss': 0.7973, 'grad_norm': 5.559782981872559, 'learning_rate': 1.4000000000000001e-05, 'epoch': 3.5}\n"
     ]
    },
    {
     "name": "stderr",
     "output_type": "stream",
     "text": [
      " 25%|██▌       | 150/600 [04:29<11:04,  1.48s/it]"
     ]
    },
    {
     "name": "stdout",
     "output_type": "stream",
     "text": [
      "{'loss': 0.6389, 'grad_norm': 5.365940570831299, 'learning_rate': 1.5e-05, 'epoch': 3.75}\n"
     ]
    },
    {
     "name": "stderr",
     "output_type": "stream",
     "text": [
      " 27%|██▋       | 160/600 [04:42<07:35,  1.03s/it]"
     ]
    },
    {
     "name": "stdout",
     "output_type": "stream",
     "text": [
      "{'loss': 0.657, 'grad_norm': 7.36571741104126, 'learning_rate': 1.6000000000000003e-05, 'epoch': 4.0}\n"
     ]
    },
    {
     "name": "stderr",
     "output_type": "stream",
     "text": [
      "                                                 \n",
      " 27%|██▋       | 160/600 [05:14<07:35,  1.03s/it]"
     ]
    },
    {
     "name": "stdout",
     "output_type": "stream",
     "text": [
      "{'eval_loss': 0.8595283031463623, 'eval_accuracy': 0.7904761904761904, 'eval_runtime': 31.7119, 'eval_samples_per_second': 6.622, 'eval_steps_per_second': 0.441, 'epoch': 4.0}\n"
     ]
    },
    {
     "name": "stderr",
     "output_type": "stream",
     "text": [
      " 28%|██▊       | 170/600 [05:32<13:33,  1.89s/it]  "
     ]
    },
    {
     "name": "stdout",
     "output_type": "stream",
     "text": [
      "{'loss': 0.3692, 'grad_norm': 4.460859775543213, 'learning_rate': 1.7000000000000003e-05, 'epoch': 4.25}\n"
     ]
    },
    {
     "name": "stderr",
     "output_type": "stream",
     "text": [
      " 30%|███       | 180/600 [05:47<10:26,  1.49s/it]"
     ]
    },
    {
     "name": "stdout",
     "output_type": "stream",
     "text": [
      "{'loss': 0.3564, 'grad_norm': 4.773380279541016, 'learning_rate': 1.8e-05, 'epoch': 4.5}\n"
     ]
    },
    {
     "name": "stderr",
     "output_type": "stream",
     "text": [
      " 32%|███▏      | 190/600 [06:01<10:07,  1.48s/it]"
     ]
    },
    {
     "name": "stdout",
     "output_type": "stream",
     "text": [
      "{'loss': 0.3233, 'grad_norm': 3.2643349170684814, 'learning_rate': 1.9e-05, 'epoch': 4.75}\n"
     ]
    },
    {
     "name": "stderr",
     "output_type": "stream",
     "text": [
      " 33%|███▎      | 200/600 [06:15<06:56,  1.04s/it]"
     ]
    },
    {
     "name": "stdout",
     "output_type": "stream",
     "text": [
      "{'loss': 0.3272, 'grad_norm': 5.394101142883301, 'learning_rate': 2e-05, 'epoch': 5.0}\n"
     ]
    },
    {
     "name": "stderr",
     "output_type": "stream",
     "text": [
      "                                                 \n",
      " 33%|███▎      | 200/600 [06:28<06:56,  1.04s/it]"
     ]
    },
    {
     "name": "stdout",
     "output_type": "stream",
     "text": [
      "{'eval_loss': 0.6081250309944153, 'eval_accuracy': 0.8333333333333334, 'eval_runtime': 13.5305, 'eval_samples_per_second': 15.52, 'eval_steps_per_second': 1.035, 'epoch': 5.0}\n"
     ]
    },
    {
     "name": "stderr",
     "output_type": "stream",
     "text": [
      " 35%|███▌      | 210/600 [06:46<10:53,  1.68s/it]"
     ]
    },
    {
     "name": "stdout",
     "output_type": "stream",
     "text": [
      "{'loss': 0.1594, 'grad_norm': 2.3900599479675293, 'learning_rate': 2.1e-05, 'epoch': 5.25}\n"
     ]
    },
    {
     "name": "stderr",
     "output_type": "stream",
     "text": [
      " 37%|███▋      | 220/600 [07:01<09:33,  1.51s/it]"
     ]
    },
    {
     "name": "stdout",
     "output_type": "stream",
     "text": [
      "{'loss': 0.1344, 'grad_norm': 1.502105474472046, 'learning_rate': 2.2000000000000003e-05, 'epoch': 5.5}\n"
     ]
    },
    {
     "name": "stderr",
     "output_type": "stream",
     "text": [
      " 38%|███▊      | 230/600 [07:16<09:11,  1.49s/it]"
     ]
    },
    {
     "name": "stdout",
     "output_type": "stream",
     "text": [
      "{'loss': 0.1223, 'grad_norm': 2.4010391235351562, 'learning_rate': 2.3000000000000003e-05, 'epoch': 5.75}\n"
     ]
    },
    {
     "name": "stderr",
     "output_type": "stream",
     "text": [
      " 40%|████      | 240/600 [07:29<06:18,  1.05s/it]"
     ]
    },
    {
     "name": "stdout",
     "output_type": "stream",
     "text": [
      "{'loss': 0.0941, 'grad_norm': 4.585350036621094, 'learning_rate': 2.4e-05, 'epoch': 6.0}\n"
     ]
    },
    {
     "name": "stderr",
     "output_type": "stream",
     "text": [
      "                                                 \n",
      " 40%|████      | 240/600 [07:42<06:18,  1.05s/it]"
     ]
    },
    {
     "name": "stdout",
     "output_type": "stream",
     "text": [
      "{'eval_loss': 0.4700174331665039, 'eval_accuracy': 0.8476190476190476, 'eval_runtime': 13.1399, 'eval_samples_per_second': 15.982, 'eval_steps_per_second': 1.065, 'epoch': 6.0}\n"
     ]
    },
    {
     "name": "stderr",
     "output_type": "stream",
     "text": [
      " 42%|████▏     | 250/600 [08:00<09:40,  1.66s/it]"
     ]
    },
    {
     "name": "stdout",
     "output_type": "stream",
     "text": [
      "{'loss': 0.0384, 'grad_norm': 0.5083829760551453, 'learning_rate': 2.5e-05, 'epoch': 6.25}\n"
     ]
    },
    {
     "name": "stderr",
     "output_type": "stream",
     "text": [
      " 43%|████▎     | 260/600 [08:14<08:24,  1.48s/it]"
     ]
    },
    {
     "name": "stdout",
     "output_type": "stream",
     "text": [
      "{'loss': 0.0375, 'grad_norm': 0.39899224042892456, 'learning_rate': 2.6000000000000002e-05, 'epoch': 6.5}\n"
     ]
    },
    {
     "name": "stderr",
     "output_type": "stream",
     "text": [
      " 45%|████▌     | 270/600 [08:29<08:12,  1.49s/it]"
     ]
    },
    {
     "name": "stdout",
     "output_type": "stream",
     "text": [
      "{'loss': 0.0282, 'grad_norm': 1.0265703201293945, 'learning_rate': 2.7000000000000002e-05, 'epoch': 6.75}\n"
     ]
    },
    {
     "name": "stderr",
     "output_type": "stream",
     "text": [
      " 47%|████▋     | 280/600 [08:43<05:40,  1.06s/it]"
     ]
    },
    {
     "name": "stdout",
     "output_type": "stream",
     "text": [
      "{'loss': 0.0304, 'grad_norm': 0.2537252902984619, 'learning_rate': 2.8000000000000003e-05, 'epoch': 7.0}\n"
     ]
    },
    {
     "name": "stderr",
     "output_type": "stream",
     "text": [
      "                                                 \n",
      " 47%|████▋     | 280/600 [08:56<05:40,  1.06s/it]"
     ]
    },
    {
     "name": "stdout",
     "output_type": "stream",
     "text": [
      "{'eval_loss': 0.42891091108322144, 'eval_accuracy': 0.8523809523809524, 'eval_runtime': 13.3604, 'eval_samples_per_second': 15.718, 'eval_steps_per_second': 1.048, 'epoch': 7.0}\n"
     ]
    },
    {
     "name": "stderr",
     "output_type": "stream",
     "text": [
      " 48%|████▊     | 290/600 [09:13<08:38,  1.67s/it]"
     ]
    },
    {
     "name": "stdout",
     "output_type": "stream",
     "text": [
      "{'loss': 0.0113, 'grad_norm': 0.18689727783203125, 'learning_rate': 2.9e-05, 'epoch': 7.25}\n"
     ]
    },
    {
     "name": "stderr",
     "output_type": "stream",
     "text": [
      " 50%|█████     | 300/600 [09:28<07:28,  1.49s/it]"
     ]
    },
    {
     "name": "stdout",
     "output_type": "stream",
     "text": [
      "{'loss': 0.0109, 'grad_norm': 0.15125200152397156, 'learning_rate': 3e-05, 'epoch': 7.5}\n"
     ]
    },
    {
     "name": "stderr",
     "output_type": "stream",
     "text": [
      " 52%|█████▏    | 310/600 [09:43<07:13,  1.49s/it]"
     ]
    },
    {
     "name": "stdout",
     "output_type": "stream",
     "text": [
      "{'loss': 0.0101, 'grad_norm': 0.38934171199798584, 'learning_rate': 3.1e-05, 'epoch': 7.75}\n"
     ]
    },
    {
     "name": "stderr",
     "output_type": "stream",
     "text": [
      " 53%|█████▎    | 320/600 [09:57<04:53,  1.05s/it]"
     ]
    },
    {
     "name": "stdout",
     "output_type": "stream",
     "text": [
      "{'loss': 0.0102, 'grad_norm': 0.5025586485862732, 'learning_rate': 3.2000000000000005e-05, 'epoch': 8.0}\n"
     ]
    },
    {
     "name": "stderr",
     "output_type": "stream",
     "text": [
      "                                                 \n",
      " 53%|█████▎    | 320/600 [10:10<04:53,  1.05s/it]"
     ]
    },
    {
     "name": "stdout",
     "output_type": "stream",
     "text": [
      "{'eval_loss': 0.4149147868156433, 'eval_accuracy': 0.8571428571428571, 'eval_runtime': 13.1973, 'eval_samples_per_second': 15.912, 'eval_steps_per_second': 1.061, 'epoch': 8.0}\n"
     ]
    },
    {
     "name": "stderr",
     "output_type": "stream",
     "text": [
      " 55%|█████▌    | 330/600 [10:27<07:30,  1.67s/it]"
     ]
    },
    {
     "name": "stdout",
     "output_type": "stream",
     "text": [
      "{'loss': 0.0057, 'grad_norm': 0.14131364226341248, 'learning_rate': 3.3e-05, 'epoch': 8.25}\n"
     ]
    },
    {
     "name": "stderr",
     "output_type": "stream",
     "text": [
      " 57%|█████▋    | 340/600 [10:42<06:31,  1.51s/it]"
     ]
    },
    {
     "name": "stdout",
     "output_type": "stream",
     "text": [
      "{'loss': 0.0056, 'grad_norm': 0.05858670175075531, 'learning_rate': 3.4000000000000007e-05, 'epoch': 8.5}\n"
     ]
    },
    {
     "name": "stderr",
     "output_type": "stream",
     "text": [
      " 58%|█████▊    | 350/600 [10:57<06:21,  1.53s/it]"
     ]
    },
    {
     "name": "stdout",
     "output_type": "stream",
     "text": [
      "{'loss': 0.0047, 'grad_norm': 0.06809373199939728, 'learning_rate': 3.5e-05, 'epoch': 8.75}\n"
     ]
    },
    {
     "name": "stderr",
     "output_type": "stream",
     "text": [
      " 60%|██████    | 360/600 [11:11<04:15,  1.06s/it]"
     ]
    },
    {
     "name": "stdout",
     "output_type": "stream",
     "text": [
      "{'loss': 0.0047, 'grad_norm': 0.13855399191379547, 'learning_rate': 3.6e-05, 'epoch': 9.0}\n"
     ]
    },
    {
     "name": "stderr",
     "output_type": "stream",
     "text": [
      "                                                 \n",
      " 60%|██████    | 360/600 [11:24<04:15,  1.06s/it]"
     ]
    },
    {
     "name": "stdout",
     "output_type": "stream",
     "text": [
      "{'eval_loss': 0.4108429551124573, 'eval_accuracy': 0.8571428571428571, 'eval_runtime': 13.2992, 'eval_samples_per_second': 15.79, 'eval_steps_per_second': 1.053, 'epoch': 9.0}\n"
     ]
    },
    {
     "name": "stderr",
     "output_type": "stream",
     "text": [
      " 62%|██████▏   | 370/600 [11:41<06:27,  1.69s/it]"
     ]
    },
    {
     "name": "stdout",
     "output_type": "stream",
     "text": [
      "{'loss': 0.0033, 'grad_norm': 0.04812423139810562, 'learning_rate': 3.7e-05, 'epoch': 9.25}\n"
     ]
    },
    {
     "name": "stderr",
     "output_type": "stream",
     "text": [
      " 63%|██████▎   | 380/600 [11:57<05:33,  1.52s/it]"
     ]
    },
    {
     "name": "stdout",
     "output_type": "stream",
     "text": [
      "{'loss': 0.0035, 'grad_norm': 0.07162127643823624, 'learning_rate': 3.8e-05, 'epoch': 9.5}\n"
     ]
    },
    {
     "name": "stderr",
     "output_type": "stream",
     "text": [
      " 65%|██████▌   | 390/600 [12:12<05:14,  1.50s/it]"
     ]
    },
    {
     "name": "stdout",
     "output_type": "stream",
     "text": [
      "{'loss': 0.0031, 'grad_norm': 0.04837175831198692, 'learning_rate': 3.9000000000000006e-05, 'epoch': 9.75}\n"
     ]
    },
    {
     "name": "stderr",
     "output_type": "stream",
     "text": [
      " 67%|██████▋   | 400/600 [12:25<03:30,  1.05s/it]"
     ]
    },
    {
     "name": "stdout",
     "output_type": "stream",
     "text": [
      "{'loss': 0.0031, 'grad_norm': 0.03792816773056984, 'learning_rate': 4e-05, 'epoch': 10.0}\n"
     ]
    },
    {
     "name": "stderr",
     "output_type": "stream",
     "text": [
      "                                                 \n",
      " 67%|██████▋   | 400/600 [12:38<03:30,  1.05s/it]"
     ]
    },
    {
     "name": "stdout",
     "output_type": "stream",
     "text": [
      "{'eval_loss': 0.4150417447090149, 'eval_accuracy': 0.8714285714285714, 'eval_runtime': 13.2191, 'eval_samples_per_second': 15.886, 'eval_steps_per_second': 1.059, 'epoch': 10.0}\n"
     ]
    },
    {
     "name": "stderr",
     "output_type": "stream",
     "text": [
      " 68%|██████▊   | 410/600 [12:55<05:16,  1.67s/it]"
     ]
    },
    {
     "name": "stdout",
     "output_type": "stream",
     "text": [
      "{'loss': 0.0026, 'grad_norm': 0.036265160888433456, 'learning_rate': 4.1e-05, 'epoch': 10.25}\n"
     ]
    },
    {
     "name": "stderr",
     "output_type": "stream",
     "text": [
      " 70%|███████   | 420/600 [13:10<04:29,  1.50s/it]"
     ]
    },
    {
     "name": "stdout",
     "output_type": "stream",
     "text": [
      "{'loss': 0.0023, 'grad_norm': 0.03364383429288864, 'learning_rate': 4.2e-05, 'epoch': 10.5}\n"
     ]
    },
    {
     "name": "stderr",
     "output_type": "stream",
     "text": [
      " 72%|███████▏  | 430/600 [13:25<04:13,  1.49s/it]"
     ]
    },
    {
     "name": "stdout",
     "output_type": "stream",
     "text": [
      "{'loss': 0.0025, 'grad_norm': 0.03181006386876106, 'learning_rate': 4.3e-05, 'epoch': 10.75}\n"
     ]
    },
    {
     "name": "stderr",
     "output_type": "stream",
     "text": [
      " 73%|███████▎  | 440/600 [13:39<02:49,  1.06s/it]"
     ]
    },
    {
     "name": "stdout",
     "output_type": "stream",
     "text": [
      "{'loss': 0.0019, 'grad_norm': 0.039751723408699036, 'learning_rate': 4.4000000000000006e-05, 'epoch': 11.0}\n"
     ]
    },
    {
     "name": "stderr",
     "output_type": "stream",
     "text": [
      "                                                 \n",
      " 73%|███████▎  | 440/600 [13:52<02:49,  1.06s/it]"
     ]
    },
    {
     "name": "stdout",
     "output_type": "stream",
     "text": [
      "{'eval_loss': 0.41805946826934814, 'eval_accuracy': 0.8714285714285714, 'eval_runtime': 13.4739, 'eval_samples_per_second': 15.586, 'eval_steps_per_second': 1.039, 'epoch': 11.0}\n"
     ]
    },
    {
     "name": "stderr",
     "output_type": "stream",
     "text": [
      " 75%|███████▌  | 450/600 [14:09<04:11,  1.68s/it]"
     ]
    },
    {
     "name": "stdout",
     "output_type": "stream",
     "text": [
      "{'loss': 0.0018, 'grad_norm': 0.027066102251410484, 'learning_rate': 4.5e-05, 'epoch': 11.25}\n"
     ]
    },
    {
     "name": "stderr",
     "output_type": "stream",
     "text": [
      " 77%|███████▋  | 460/600 [14:24<03:31,  1.51s/it]"
     ]
    },
    {
     "name": "stdout",
     "output_type": "stream",
     "text": [
      "{'loss': 0.0018, 'grad_norm': 0.017705900594592094, 'learning_rate': 4.600000000000001e-05, 'epoch': 11.5}\n"
     ]
    },
    {
     "name": "stderr",
     "output_type": "stream",
     "text": [
      " 78%|███████▊  | 470/600 [14:39<03:15,  1.51s/it]"
     ]
    },
    {
     "name": "stdout",
     "output_type": "stream",
     "text": [
      "{'loss': 0.0016, 'grad_norm': 0.023695293813943863, 'learning_rate': 4.7e-05, 'epoch': 11.75}\n"
     ]
    },
    {
     "name": "stderr",
     "output_type": "stream",
     "text": [
      " 80%|████████  | 480/600 [14:53<02:06,  1.05s/it]"
     ]
    },
    {
     "name": "stdout",
     "output_type": "stream",
     "text": [
      "{'loss': 0.0017, 'grad_norm': 0.036843426525592804, 'learning_rate': 4.8e-05, 'epoch': 12.0}\n"
     ]
    },
    {
     "name": "stderr",
     "output_type": "stream",
     "text": [
      "                                                 \n",
      " 80%|████████  | 480/600 [15:06<02:06,  1.05s/it]"
     ]
    },
    {
     "name": "stdout",
     "output_type": "stream",
     "text": [
      "{'eval_loss': 0.4226830005645752, 'eval_accuracy': 0.8666666666666667, 'eval_runtime': 13.2475, 'eval_samples_per_second': 15.852, 'eval_steps_per_second': 1.057, 'epoch': 12.0}\n"
     ]
    },
    {
     "name": "stderr",
     "output_type": "stream",
     "text": [
      " 82%|████████▏ | 490/600 [15:23<03:04,  1.68s/it]"
     ]
    },
    {
     "name": "stdout",
     "output_type": "stream",
     "text": [
      "{'loss': 0.0016, 'grad_norm': 0.02230418100953102, 'learning_rate': 4.9e-05, 'epoch': 12.25}\n"
     ]
    },
    {
     "name": "stderr",
     "output_type": "stream",
     "text": [
      " 83%|████████▎ | 500/600 [15:38<02:30,  1.50s/it]"
     ]
    },
    {
     "name": "stdout",
     "output_type": "stream",
     "text": [
      "{'loss': 0.0013, 'grad_norm': 0.01936035417020321, 'learning_rate': 5e-05, 'epoch': 12.5}\n"
     ]
    },
    {
     "name": "stderr",
     "output_type": "stream",
     "text": [
      " 85%|████████▌ | 510/600 [15:54<02:15,  1.50s/it]"
     ]
    },
    {
     "name": "stdout",
     "output_type": "stream",
     "text": [
      "{'loss': 0.0013, 'grad_norm': 0.016909176483750343, 'learning_rate': 4.5e-05, 'epoch': 12.75}\n"
     ]
    },
    {
     "name": "stderr",
     "output_type": "stream",
     "text": [
      " 87%|████████▋ | 520/600 [16:07<01:24,  1.05s/it]"
     ]
    },
    {
     "name": "stdout",
     "output_type": "stream",
     "text": [
      "{'loss': 0.0013, 'grad_norm': 0.027983224019408226, 'learning_rate': 4e-05, 'epoch': 13.0}\n"
     ]
    },
    {
     "name": "stderr",
     "output_type": "stream",
     "text": [
      "                                                 \n",
      " 87%|████████▋ | 520/600 [16:20<01:24,  1.05s/it]"
     ]
    },
    {
     "name": "stdout",
     "output_type": "stream",
     "text": [
      "{'eval_loss': 0.4268835186958313, 'eval_accuracy': 0.8666666666666667, 'eval_runtime': 13.3128, 'eval_samples_per_second': 15.774, 'eval_steps_per_second': 1.052, 'epoch': 13.0}\n"
     ]
    },
    {
     "name": "stderr",
     "output_type": "stream",
     "text": [
      " 88%|████████▊ | 530/600 [16:38<01:58,  1.69s/it]"
     ]
    },
    {
     "name": "stdout",
     "output_type": "stream",
     "text": [
      "{'loss': 0.0011, 'grad_norm': 0.018314341083168983, 'learning_rate': 3.5e-05, 'epoch': 13.25}\n"
     ]
    },
    {
     "name": "stderr",
     "output_type": "stream",
     "text": [
      " 90%|█████████ | 540/600 [16:53<01:30,  1.50s/it]"
     ]
    },
    {
     "name": "stdout",
     "output_type": "stream",
     "text": [
      "{'loss': 0.0011, 'grad_norm': 0.018287673592567444, 'learning_rate': 3e-05, 'epoch': 13.5}\n"
     ]
    },
    {
     "name": "stderr",
     "output_type": "stream",
     "text": [
      " 92%|█████████▏| 550/600 [17:08<01:14,  1.49s/it]"
     ]
    },
    {
     "name": "stdout",
     "output_type": "stream",
     "text": [
      "{'loss': 0.0012, 'grad_norm': 0.01407625712454319, 'learning_rate': 2.5e-05, 'epoch': 13.75}\n"
     ]
    },
    {
     "name": "stderr",
     "output_type": "stream",
     "text": [
      " 93%|█████████▎| 560/600 [17:21<00:42,  1.05s/it]"
     ]
    },
    {
     "name": "stdout",
     "output_type": "stream",
     "text": [
      "{'loss': 0.0011, 'grad_norm': 0.02715863287448883, 'learning_rate': 2e-05, 'epoch': 14.0}\n"
     ]
    },
    {
     "name": "stderr",
     "output_type": "stream",
     "text": [
      "                                                 \n",
      " 93%|█████████▎| 560/600 [17:35<00:42,  1.05s/it]"
     ]
    },
    {
     "name": "stdout",
     "output_type": "stream",
     "text": [
      "{'eval_loss': 0.4296506643295288, 'eval_accuracy': 0.8666666666666667, 'eval_runtime': 13.2169, 'eval_samples_per_second': 15.889, 'eval_steps_per_second': 1.059, 'epoch': 14.0}\n"
     ]
    },
    {
     "name": "stderr",
     "output_type": "stream",
     "text": [
      " 95%|█████████▌| 570/600 [17:52<00:50,  1.68s/it]"
     ]
    },
    {
     "name": "stdout",
     "output_type": "stream",
     "text": [
      "{'loss': 0.0011, 'grad_norm': 0.016643481329083443, 'learning_rate': 1.5e-05, 'epoch': 14.25}\n"
     ]
    },
    {
     "name": "stderr",
     "output_type": "stream",
     "text": [
      " 97%|█████████▋| 580/600 [18:07<00:30,  1.51s/it]"
     ]
    },
    {
     "name": "stdout",
     "output_type": "stream",
     "text": [
      "{'loss': 0.001, 'grad_norm': 0.013671268709003925, 'learning_rate': 1e-05, 'epoch': 14.5}\n"
     ]
    },
    {
     "name": "stderr",
     "output_type": "stream",
     "text": [
      " 98%|█████████▊| 590/600 [18:23<00:15,  1.53s/it]"
     ]
    },
    {
     "name": "stdout",
     "output_type": "stream",
     "text": [
      "{'loss': 0.001, 'grad_norm': 0.017962392419576645, 'learning_rate': 5e-06, 'epoch': 14.75}\n"
     ]
    },
    {
     "name": "stderr",
     "output_type": "stream",
     "text": [
      "100%|██████████| 600/600 [18:36<00:00,  1.06s/it]"
     ]
    },
    {
     "name": "stdout",
     "output_type": "stream",
     "text": [
      "{'loss': 0.001, 'grad_norm': 0.018146749585866928, 'learning_rate': 0.0, 'epoch': 15.0}\n"
     ]
    },
    {
     "name": "stderr",
     "output_type": "stream",
     "text": [
      "                                                 \n",
      "100%|██████████| 600/600 [18:51<00:00,  1.06s/it]"
     ]
    },
    {
     "name": "stdout",
     "output_type": "stream",
     "text": [
      "{'eval_loss': 0.43058210611343384, 'eval_accuracy': 0.8666666666666667, 'eval_runtime': 13.2256, 'eval_samples_per_second': 15.878, 'eval_steps_per_second': 1.059, 'epoch': 15.0}\n"
     ]
    },
    {
     "name": "stderr",
     "output_type": "stream",
     "text": [
      "100%|██████████| 600/600 [18:52<00:00,  1.89s/it]"
     ]
    },
    {
     "name": "stdout",
     "output_type": "stream",
     "text": [
      "{'train_runtime': 1132.8042, 'train_samples_per_second': 8.342, 'train_steps_per_second': 0.53, 'train_loss': 0.42412046999049685, 'epoch': 15.0}\n"
     ]
    },
    {
     "name": "stderr",
     "output_type": "stream",
     "text": [
      "\n"
     ]
    },
    {
     "data": {
      "text/plain": [
       "TrainOutput(global_step=600, training_loss=0.42412046999049685, metrics={'train_runtime': 1132.8042, 'train_samples_per_second': 8.342, 'train_steps_per_second': 0.53, 'total_flos': 7.323321186929664e+17, 'train_loss': 0.42412046999049685, 'epoch': 15.0})"
      ]
     },
     "execution_count": 7,
     "metadata": {},
     "output_type": "execute_result"
    }
   ],
   "source": [
    "# Arguments d'entraînement\n",
    "training_args = TrainingArguments(\n",
    "    output_dir='./train_results',             # Répertoire pour sauvegarder le meilleur modèle\n",
    "    logging_dir='./train_logs',               # Répertoire pour les logs de performance\n",
    "    eval_strategy=\"epoch\",                    # Évaluer à chaque époque\n",
    "    save_strategy=\"epoch\",                    # Sauvegarder à chaque époque\n",
    "    save_total_limit=1,                       # Ne conserver que le meilleur modèle\n",
    "    metric_for_best_model=\"eval_loss\",        # Utiliser la perte d'évaluation pour déterminer le meilleur modèle\n",
    "    load_best_model_at_end=True,              # Charger le meilleur modèle à la fin de l'entraînement\n",
    "    per_device_train_batch_size=16,           # Taille des batches pour l'entraînement\n",
    "    per_device_eval_batch_size=16,            # Taille des batches pour l'évaluation\n",
    "    num_train_epochs=15,                      # Nombre d'époques d'entraînement\n",
    "    logging_steps=10,                         # Fréquence d'enregistrement des logs\n",
    "    learning_rate=5e-5,\n",
    "    warmup_steps=500                          # Nombre d'étapes de \"warmup\" pour ajuster progressivement le learning rate\n",
    ")\n",
    "\n",
    "# Fonction pour récupérer l'accuracy lors de la phase d'entraînement\n",
    "def compute_metrics(prediction):\n",
    "    preds = np.argmax(prediction.predictions, axis=1)\n",
    "    acc = accuracy_score(prediction.label_ids, preds)\n",
    "    return {\"accuracy\": acc}\n",
    "\n",
    "# Objet trainer pour entraîner le modèle en tenant compte des paramètres d'apprentissage et de test\n",
    "trainer = Trainer(\n",
    "    model=model,\n",
    "    args=training_args,\n",
    "    train_dataset=train_dataset,\n",
    "    eval_dataset=validation_dataset,\n",
    "    compute_metrics=compute_metrics\n",
    ")\n",
    "\n",
    "# Lancer l'entraînement\n",
    "trainer.train()"
   ]
  },
  {
   "cell_type": "markdown",
   "metadata": {},
   "source": [
    "# Résultats de l'entraînement"
   ]
  },
  {
   "cell_type": "markdown",
   "metadata": {},
   "source": [
    "## Visualisation de la validation au fil des epochs"
   ]
  },
  {
   "cell_type": "code",
   "execution_count": 8,
   "metadata": {},
   "outputs": [],
   "source": [
    "# Récupérer les métriques après l'entraînement\n",
    "log_history = trainer.state.log_history\n",
    "\n",
    "# Extraire les métriques de validation pour chaque époque\n",
    "validation_loss_values = [log['eval_loss'] for log in log_history if 'eval_loss' in log]\n",
    "validation_accuracy_values = [log['eval_accuracy'] for log in log_history if 'eval_accuracy' in log]"
   ]
  },
  {
   "cell_type": "code",
   "execution_count": 9,
   "metadata": {},
   "outputs": [
    {
     "data": {
      "image/png": "[encoded data removed]",
      "text/plain": [
       "<Figure size 1200x600 with 2 Axes>"
      ]
     },
     "metadata": {},
     "output_type": "display_data"
    }
   ],
   "source": [
    "# Fonctions pour tracer l'historique des métrics de l'entraînement\n",
    "def plot_metrics():\n",
    "    epochs = range(1, len(validation_loss_values) + 1)\n",
    "    \n",
    "    plt.figure(figsize=(12, 6))\n",
    "    \n",
    "    # Graphique pour l'accuracy\n",
    "    plt.subplot(1, 2, 1)\n",
    "    last_acc = validation_accuracy_values[-1]\n",
    "    plt.plot(epochs, validation_accuracy_values, label=f\"eval_accuracy (last: {last_acc:.4f})\", color='orange')\n",
    "    plt.xlabel('Epochs')\n",
    "    plt.ylabel('Accuracy')\n",
    "    plt.title('Accuracy')\n",
    "    plt.grid(True)\n",
    "    plt.legend()\n",
    "\n",
    "    # Graphique pour le loss\n",
    "    plt.subplot(1, 2, 2)\n",
    "    last_loss = validation_loss_values[-1]\n",
    "    plt.plot(epochs, validation_loss_values, label=f\"eval_loss (last: {last_loss:.4f})\", color='orange')\n",
    "    plt.xlabel('Epochs')\n",
    "    plt.ylabel('Loss')\n",
    "    plt.title('Loss')\n",
    "    plt.grid(True)\n",
    "    plt.legend()\n",
    "    \n",
    "    plt.tight_layout()\n",
    "    plt.show()\n",
    "\n",
    "plot_metrics()"
   ]
  },
  {
   "cell_type": "markdown",
   "metadata": {},
   "source": [
    "## Évaluation du modèle sur le jeu de données de test"
   ]
  },
  {
   "cell_type": "code",
   "execution_count": 10,
   "metadata": {},
   "outputs": [
    {
     "name": "stderr",
     "output_type": "stream",
     "text": [
      "100%|██████████| 14/14 [00:11<00:00,  1.22it/s]"
     ]
    },
    {
     "name": "stdout",
     "output_type": "stream",
     "text": [
      "\n",
      "TEST\n",
      "Accuracy : 0.8524\n",
      "Loss : 0.4756\n"
     ]
    },
    {
     "name": "stderr",
     "output_type": "stream",
     "text": [
      "\n"
     ]
    }
   ],
   "source": [
    "# Évaluation du trainer qui contient le modèle optimisé\n",
    "evaluation = trainer.evaluate(test_dataset)\n",
    "print('\\nTEST')\n",
    "print('Accuracy : {:.4f}'.format(evaluation['eval_accuracy']))\n",
    "print('Loss : {:.4f}'.format(evaluation['eval_loss']))"
   ]
  }
 ],
 "metadata": {
  "kernelspec": {
   "display_name": ".venv",
   "language": "python",
   "name": "python3"
  },
  "language_info": {
   "codemirror_mode": {
    "name": "ipython",
    "version": 3
   },
   "file_extension": ".py",
   "mimetype": "text/x-python",
   "name": "python",
   "nbconvert_exporter": "python",
   "pygments_lexer": "ipython3",
   "version": "3.12.1"
  }
 },
 "nbformat": 4,
 "nbformat_minor": 2
}
